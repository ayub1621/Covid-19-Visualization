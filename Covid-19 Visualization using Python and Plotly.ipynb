{
 "cells": [
  {
   "cell_type": "code",
   "execution_count": 1,
   "id": "e74e2674-7418-4eb7-b04d-8ffdcc93696d",
   "metadata": {},
   "outputs": [],
   "source": [
    "# Importing libraries \n",
    "\n",
    "import numpy as np\n",
    "import pandas as pd\n",
    "import matplotlib.pyplot as plt\n",
    "import matplotlib.ticker as ticker\n",
    "import seaborn as sns\n",
    "import plotly.express as px\n",
    "from plotly.offline import plot"
   ]
  },
  {
   "cell_type": "code",
   "execution_count": 2,
   "id": "be1ace77-ee88-4fe9-89ae-7a327ee470b8",
   "metadata": {},
   "outputs": [
    {
     "name": "stdout",
     "output_type": "stream",
     "text": [
      "  Province/State Country/Region       Lat       Long  1/22/20  1/23/20  \\\n",
      "0            NaN    Afghanistan  33.93911  67.709953        0        0   \n",
      "1            NaN        Albania  41.15330  20.168300        0        0   \n",
      "2            NaN        Algeria  28.03390   1.659600        0        0   \n",
      "3            NaN        Andorra  42.50630   1.521800        0        0   \n",
      "4            NaN         Angola -11.20270  17.873900        0        0   \n",
      "\n",
      "   1/24/20  1/25/20  1/26/20  1/27/20  ...  2/28/23  3/1/23  3/2/23  3/3/23  \\\n",
      "0        0        0        0        0  ...   209322  209340  209358  209362   \n",
      "1        0        0        0        0  ...   334391  334408  334408  334427   \n",
      "2        0        0        0        0  ...   271441  271448  271463  271469   \n",
      "3        0        0        0        0  ...    47866   47875   47875   47875   \n",
      "4        0        0        0        0  ...   105255  105277  105277  105277   \n",
      "\n",
      "   3/4/23  3/5/23  3/6/23  3/7/23  3/8/23  3/9/23  \n",
      "0  209369  209390  209406  209436  209451  209451  \n",
      "1  334427  334427  334427  334427  334443  334457  \n",
      "2  271469  271477  271477  271490  271494  271496  \n",
      "3   47875   47875   47875   47875   47890   47890  \n",
      "4  105277  105277  105277  105277  105288  105288  \n",
      "\n",
      "[5 rows x 1147 columns]\n"
     ]
    }
   ],
   "source": [
    "# Reading The data\n",
    "\n",
    "covid_confirmed = pd.read_csv(\n",
    "    'https://raw.githubusercontent.com/CSSEGISandData/COVID-19/master/csse_covid_19_data/csse_covid_19_time_series/time_series_covid19_confirmed_global.csv')\n",
    "covid_deaths = pd.read_csv(\n",
    "    'https://raw.githubusercontent.com/CSSEGISandData/COVID-19/master/csse_covid_19_data/csse_covid_19_time_series/time_series_covid19_deaths_global.csv')\n",
    "covid_recovered = pd.read_csv(\n",
    "    'https://raw.githubusercontent.com/CSSEGISandData/COVID-19/master/csse_covid_19_data/csse_covid_19_time_series/time_series_covid19_recovered_global.csv')\n",
    "print(covid_confirmed.head())"
   ]
  },
  {
   "cell_type": "code",
   "execution_count": 13,
   "id": "8d70a0c1-6f5b-4dcf-95d5-a453ec2e658a",
   "metadata": {},
   "outputs": [],
   "source": [
    "# Renaming to consistent values\n",
    "\n",
    "covid_confirmed['Country/Region'].replace('Mainland China', 'China', inplace=True)\n",
    "covid_deaths['Country/Region'].replace('Mainland China', 'China', inplace=True)\n",
    "covid_recovered['Country/Region'].replace('Mainland China', 'China', inplace=True)"
   ]
  },
  {
   "cell_type": "code",
   "execution_count": 4,
   "id": "a03f08f2-141e-44b1-b364-afe0eebe9610",
   "metadata": {},
   "outputs": [],
   "source": [
    "# Handling empty data\n",
    "\n",
    "covid_confirmed[['Province/State']] = covid_confirmed[['Province/State']].fillna('')\n",
    "covid_confirmed.fillna(0, inplace=True)\n",
    "covid_deaths[['Province/State']] = covid_deaths[['Province/State']].fillna('')\n",
    "covid_deaths.fillna(0, inplace=True)\n",
    "covid_recovered[['Province/State']] = covid_recovered[['Province/State']].fillna('')\n",
    "covid_recovered.fillna(0, inplace=True)"
   ]
  },
  {
   "cell_type": "code",
   "execution_count": 5,
   "id": "3dadebd5-af47-44bb-a6f8-6d323dca45bd",
   "metadata": {},
   "outputs": [
    {
     "name": "stdout",
     "output_type": "stream",
     "text": [
      "Total confirmed, dead, and recovered numbers in the world, respectively:  676570149 6881802 130899061\n"
     ]
    }
   ],
   "source": [
    "# Snapshot as of today.\n",
    "# Start by aggregating all the cases to see a snapshot for the world.\n",
    "covid_confirmed_count = covid_confirmed.iloc[:, 4:].sum().max()\n",
    "covid_deaths_count = covid_deaths.iloc[:, 4:].sum().max()\n",
    "covid_recovered_count = covid_recovered.iloc[:, 4:].sum().max()\n",
    "\n",
    "print('Total confirmed, dead, and recovered numbers in the world, respectively: ',\n",
    "      covid_confirmed_count, covid_deaths_count, covid_recovered_count)"
   ]
  },
  {
   "cell_type": "code",
   "execution_count": 7,
   "id": "d40ae717-34c4-45ec-ac90-ef72d0dd1a9c",
   "metadata": {},
   "outputs": [
    {
     "name": "stdout",
     "output_type": "stream",
     "text": [
      "   confirmed   deaths  recovered     active\n",
      "0  676570149  6881802  130899061  538789286\n"
     ]
    }
   ],
   "source": [
    "# storing all these numbers in a dataframe for an easy plotting.\n",
    "# Also calculating active cases by doing: Active=Confirmed−Deaths−Recovered.\n",
    "\n",
    "world_df = pd.DataFrame({\n",
    "    'confirmed': [covid_confirmed_count],\n",
    "    'deaths': [covid_deaths_count],\n",
    "    'recovered': [covid_recovered_count],\n",
    "    'active': [covid_confirmed_count - covid_deaths_count - covid_recovered_count]\n",
    "})\n",
    "print(world_df)"
   ]
  },
  {
   "cell_type": "code",
   "execution_count": 8,
   "id": "011d24f2-9030-47da-b36f-307731c8f912",
   "metadata": {},
   "outputs": [
    {
     "name": "stdout",
     "output_type": "stream",
     "text": [
      "      status      count      upper\n",
      "0     active  538789286  confirmed\n",
      "1     deaths    6881802  confirmed\n",
      "2  recovered  130899061  confirmed\n"
     ]
    }
   ],
   "source": [
    "# Unpivot the DataFrame from wide to long format\n",
    "world_long_df = world_df.melt(value_vars=['active', 'deaths', 'recovered'],\n",
    "                              var_name=\"status\",\n",
    "                              value_name=\"count\")\n",
    "world_long_df['upper'] = 'confirmed'\n",
    "print(world_long_df)"
   ]
  },
  {
   "cell_type": "markdown",
   "id": "2c29c2a7-e033-403d-8cb0-abdb45eddf65",
   "metadata": {
    "tags": []
   },
   "source": [
    "### Treemap plotting\n"
   ]
  },
  {
   "cell_type": "code",
   "execution_count": 10,
   "id": "e8fce27f-407c-4f16-8feb-ea15b8c4bcdc",
   "metadata": {},
   "outputs": [
    {
     "data": {
      "text/plain": [
       "'temp-plot.html'"
      ]
     },
     "execution_count": 10,
     "metadata": {},
     "output_type": "execute_result"
    }
   ],
   "source": [
    "fig = px.treemap(world_long_df, path=['status'], values='count', template='plotly_dark')\n",
    "plot(fig)"
   ]
  },
  {
   "cell_type": "markdown",
   "id": "1d9bf778-d047-49f4-978f-429ffc598372",
   "metadata": {
    "tags": []
   },
   "source": [
    "## Evolution of virus cases over time"
   ]
  },
  {
   "cell_type": "code",
   "execution_count": 12,
   "id": "f7bf5095-111d-450a-b459-b91250fe3883",
   "metadata": {},
   "outputs": [],
   "source": [
    "# Removing first 4 columns about state, country, etc. and sum numbers for all dates\n",
    "\n",
    "covid_worldwide_confirmed = covid_confirmed.iloc[:, 4:].sum(axis=0)\n",
    "covid_worldwide_deaths = covid_deaths.iloc[:, 4:].sum(axis=0)\n",
    "covid_worldwide_recovered = covid_recovered.iloc[:, 4:].sum(axis=0)\n",
    "covid_worldwide_active = covid_worldwide_confirmed - covid_worldwide_deaths - covid_worldwide_recovered"
   ]
  },
  {
   "cell_type": "markdown",
   "id": "08ebeb94-8a2e-46f2-b0bb-d20f26f72e24",
   "metadata": {},
   "source": [
    "### Using Seaborn for plotting"
   ]
  },
  {
   "cell_type": "code",
   "execution_count": 14,
   "id": "40165d05-a96e-4295-b872-cd114a298cb6",
   "metadata": {},
   "outputs": [
    {
     "data": {
      "image/png": "[encoded data removed]",
      "text/plain": [
       "<Figure size 1600x600 with 1 Axes>"
      ]
     },
     "metadata": {},
     "output_type": "display_data"
    }
   ],
   "source": [
    "\n",
    "fig, ax = plt.subplots(figsize=(16, 6))\n",
    "\n",
    "sns.lineplot(x=covid_worldwide_confirmed.index, y=covid_worldwide_confirmed, sort=False, linewidth=2)\n",
    "sns.lineplot(x=covid_worldwide_deaths.index, y=covid_worldwide_deaths, sort=False, linewidth=2)\n",
    "sns.lineplot(x=covid_worldwide_recovered.index, y=covid_worldwide_recovered, sort=False, linewidth=2)\n",
    "sns.lineplot(x=covid_worldwide_active.index, y=covid_worldwide_active, sort=False, linewidth=2)\n",
    "\n",
    "ax.lines[0].set_linestyle(\"--\")  # Plot Confirmed cases in dashed lines\n",
    "\n",
    "plt.suptitle(\"Evolution of COVID-19 worldwide cases\", fontsize=16, fontweight='bold', color='black')\n",
    "\n",
    "plt.xticks(rotation=90)\n",
    "plt.ylabel('Number of cases')\n",
    "\n",
    "ax.legend(['Confirmed', 'Deaths', 'Recovered', 'Active'])\n",
    "\n",
    "plt.show()"
   ]
  },
  {
   "cell_type": "markdown",
   "id": "ebebffbf-3bd5-45fa-b742-71eab939b1d6",
   "metadata": {},
   "source": [
    "## Evolution of Mortality rate"
   ]
  },
  {
   "cell_type": "code",
   "execution_count": 15,
   "id": "70660c07-55f2-412b-98ba-ca5b1061d910",
   "metadata": {},
   "outputs": [
    {
     "name": "stdout",
     "output_type": "stream",
     "text": [
      "        confirmed   deaths  recovered     active\n",
      "3/5/23  676024901  6877749          0  669147152\n",
      "3/6/23  676082941  6878115          0  669204826\n",
      "3/7/23  676213378  6879038          0  669334340\n",
      "3/8/23  676392824  6880483          0  669512341\n",
      "3/9/23  676570149  6881802          0  669688347\n"
     ]
    }
   ],
   "source": [
    "# Creating a new data frame to capture all the numbers for confirmed, recovered, active, death.\n",
    "world_rate_df = pd.DataFrame({\n",
    "    'confirmed': covid_worldwide_confirmed,\n",
    "    'deaths': covid_worldwide_deaths,\n",
    "    'recovered': covid_worldwide_recovered,\n",
    "    'active': covid_worldwide_active\n",
    "}, index=covid_worldwide_confirmed.index)\n",
    "\n",
    "print(world_rate_df.tail())"
   ]
  },
  {
   "cell_type": "code",
   "execution_count": 16,
   "id": "d9db8a52-c7e6-470b-b63e-9ee0f00cc2f8",
   "metadata": {},
   "outputs": [
    {
     "name": "stdout",
     "output_type": "stream",
     "text": [
      "        confirmed   deaths  recovered     active  recovery rate  \\\n",
      "3/5/23  676024901  6877749          0  669147152            0.0   \n",
      "3/6/23  676082941  6878115          0  669204826            0.0   \n",
      "3/7/23  676213378  6879038          0  669334340            0.0   \n",
      "3/8/23  676392824  6880483          0  669512341            0.0   \n",
      "3/9/23  676570149  6881802          0  669688347            0.0   \n",
      "\n",
      "        mortality rate    date  \n",
      "3/5/23        1.017381  3/5/23  \n",
      "3/6/23        1.017348  3/6/23  \n",
      "3/7/23        1.017288  3/7/23  \n",
      "3/8/23        1.017232  3/8/23  \n",
      "3/9/23        1.017160  3/9/23  \n"
     ]
    }
   ],
   "source": [
    "# Calculating recovery and mortality rate as a fraction of confirmed\n",
    "world_rate_df['recovery rate'] = world_rate_df['recovered'] / world_rate_df['confirmed'] * 100\n",
    "world_rate_df['mortality rate'] = world_rate_df['deaths'] / world_rate_df['confirmed'] * 100\n",
    "world_rate_df['date'] = world_rate_df.index\n",
    "\n",
    "print(world_rate_df.tail())"
   ]
  },
  {
   "cell_type": "code",
   "execution_count": 18,
   "id": "59726138-03f2-40d2-b3fe-b438b3762e87",
   "metadata": {},
   "outputs": [
    {
     "name": "stdout",
     "output_type": "stream",
     "text": [
      "         date          status     ratio\n",
      "0     1/22/20   recovery rate  5.385996\n",
      "1     1/23/20   recovery rate  4.870624\n",
      "2     1/24/20   recovery rate  4.131356\n",
      "3     1/25/20   recovery rate  2.922756\n",
      "4     1/26/20   recovery rate  2.641509\n",
      "...       ...             ...       ...\n",
      "2281   3/5/23  mortality rate  1.017381\n",
      "2282   3/6/23  mortality rate  1.017348\n",
      "2283   3/7/23  mortality rate  1.017288\n",
      "2284   3/8/23  mortality rate  1.017232\n",
      "2285   3/9/23  mortality rate  1.017160\n",
      "\n",
      "[2286 rows x 3 columns]\n"
     ]
    }
   ],
   "source": [
    "# Unpivot the DataFrame from wide to long format\n",
    "world_rate_long_df = world_rate_df.melt(id_vars=\"date\",\n",
    "                                        value_vars=['recovery rate', 'mortality rate'],\n",
    "                                        var_name=\"status\",\n",
    "                                        value_name=\"ratio\")\n",
    "print(world_rate_long_df)"
   ]
  },
  {
   "cell_type": "markdown",
   "id": "01d82cfa-8b9f-4740-a327-7597d6d61476",
   "metadata": {},
   "source": [
    "### Using plotly to plot the numbers"
   ]
  },
  {
   "cell_type": "code",
   "execution_count": 21,
   "id": "765f762b-1215-4fa1-bf83-2c02398edb1c",
   "metadata": {},
   "outputs": [
    {
     "data": {
      "text/plain": [
       "'temp-plot.html'"
      ]
     },
     "execution_count": 21,
     "metadata": {},
     "output_type": "execute_result"
    }
   ],
   "source": [
    "fig = px.line(world_rate_long_df, x=\"date\", y=\"ratio\", color='status', log_y=True,\n",
    "              title='Recovery and Mortality rate over the time',\n",
    "              color_discrete_sequence=['#2ecc71', '#e74c3c'],\n",
    "              template='plotly_dark')\n",
    "\n",
    "plot(fig)"
   ]
  },
  {
   "cell_type": "markdown",
   "id": "581a9ecd-f131-4221-82b3-0018352e4fcb",
   "metadata": {},
   "source": [
    "## Plotting data onto a map using latitude and longitude values\n",
    "Takes a bit of time based on the number of countries.\n"
   ]
  },
  {
   "cell_type": "code",
   "execution_count": 23,
   "id": "c54bcb5e-c30f-468f-ab12-ef6c345c2410",
   "metadata": {},
   "outputs": [
    {
     "name": "stderr",
     "output_type": "stream",
     "text": [
      "C:\\Users\\Ayub\\AppData\\Local\\Temp\\ipykernel_25168\\2060997321.py:4: FutureWarning:\n",
      "\n",
      "The default value of numeric_only in DataFrameGroupBy.sum is deprecated. In a future version, numeric_only will default to False. Either specify numeric_only or select only columns which should be valid for the function.\n",
      "\n"
     ]
    }
   ],
   "source": [
    "# Grouping rows that contain same Country/Region values.\n",
    "# We will use sum to add all values while grouping.\n",
    "\n",
    "covid_confirmed_agg = covid_confirmed.groupby('Country/Region').sum().reset_index()"
   ]
  },
  {
   "cell_type": "code",
   "execution_count": 24,
   "id": "b1f1defe-ab3d-4707-bd29-96f54523f652",
   "metadata": {},
   "outputs": [
    {
     "name": "stderr",
     "output_type": "stream",
     "text": [
      "C:\\Users\\Ayub\\AppData\\Local\\Temp\\ipykernel_25168\\1311862287.py:3: FutureWarning:\n",
      "\n",
      "The default value of numeric_only in DataFrameGroupBy.mean is deprecated. In a future version, numeric_only will default to False. Either specify numeric_only or select only columns which should be valid for the function.\n",
      "\n"
     ]
    }
   ],
   "source": [
    "# Data for some countries is broken down into states/provinces.\n",
    "#Therefore the calculation of mean latitude and longitude is needed\n",
    "covid_confirmed_agg.loc[:, ['Lat', 'Long']] = covid_confirmed.groupby('Country/Region').mean().reset_index().loc[:,\n",
    "                                              ['Lat', 'Long']]"
   ]
  },
  {
   "cell_type": "code",
   "execution_count": 25,
   "id": "c05e4e63-c174-4ae6-86a0-e212bc47ebc2",
   "metadata": {},
   "outputs": [
    {
     "name": "stdout",
     "output_type": "stream",
     "text": [
      "(127, 1146)\n",
      "  Country/Region       Lat       Long  1/22/20  1/23/20  1/24/20  1/25/20  \\\n",
      "0    Afghanistan  33.93911  67.709953        0        0        0        0   \n",
      "1        Albania  41.15330  20.168300        0        0        0        0   \n",
      "2        Algeria  28.03390   1.659600        0        0        0        0   \n",
      "4         Angola -11.20270  17.873900        0        0        0        0   \n",
      "7      Argentina -38.41610 -63.616700        0        0        0        0   \n",
      "\n",
      "   1/26/20  1/27/20  1/28/20  ...   2/28/23    3/1/23    3/2/23    3/3/23  \\\n",
      "0        0        0        0  ...    209322    209340    209358    209362   \n",
      "1        0        0        0  ...    334391    334408    334408    334427   \n",
      "2        0        0        0  ...    271441    271448    271463    271469   \n",
      "4        0        0        0  ...    105255    105277    105277    105277   \n",
      "7        0        0        0  ...  10044125  10044125  10044125  10044125   \n",
      "\n",
      "     3/4/23    3/5/23    3/6/23    3/7/23    3/8/23    3/9/23  \n",
      "0    209369    209390    209406    209436    209451    209451  \n",
      "1    334427    334427    334427    334427    334443    334457  \n",
      "2    271469    271477    271477    271490    271494    271496  \n",
      "4    105277    105277    105277    105277    105288    105288  \n",
      "7  10044125  10044125  10044957  10044957  10044957  10044957  \n",
      "\n",
      "[5 rows x 1146 columns]\n"
     ]
    }
   ],
   "source": [
    "# Since there are a lot of countries, for easy visualization let us only look at countries with high numbers\n",
    "MIN_CASES = 100000\n",
    "covid_confirmed_agg = covid_confirmed_agg[covid_confirmed_agg.iloc[:, 3:].max(axis=1) > MIN_CASES]\n",
    "print(covid_confirmed_agg.shape)\n",
    "print(covid_confirmed_agg.head())"
   ]
  },
  {
   "cell_type": "code",
   "execution_count": 26,
   "id": "2c2a626c-8d14-47d9-b9b2-d04bd4ef33e7",
   "metadata": {},
   "outputs": [],
   "source": [
    "# Unpivot the DataFrame from wide to long format\n",
    "covid_confirmed_agg_long = pd.melt(covid_confirmed_agg,\n",
    "                                   id_vars=covid_confirmed_agg.iloc[:, :3],\n",
    "                                   var_name='date',\n",
    "                                   value_vars=covid_confirmed_agg.iloc[:, 3:],\n",
    "                                   value_name='date_confirmed_cases')"
   ]
  },
  {
   "cell_type": "markdown",
   "id": "1df3dd25-54fc-4f76-b5ac-1986acfe1412",
   "metadata": {},
   "source": [
    "### Plotly for visualization"
   ]
  },
  {
   "cell_type": "code",
   "execution_count": 27,
   "id": "448d2a9c-c8f9-4f6e-8b8e-59b05bf07d67",
   "metadata": {},
   "outputs": [
    {
     "data": {
      "text/plain": [
       "'temp-plot.html'"
      ]
     },
     "execution_count": 27,
     "metadata": {},
     "output_type": "execute_result"
    }
   ],
   "source": [
    "fig = px.scatter_geo(covid_confirmed_agg_long, lat=\"Lat\", lon='Long',\n",
    "                     color='Country/Region', hover_name='Country/Region', size='date_confirmed_cases',\n",
    "                     size_max=50, animation_frame='date', template='plotly_dark', projection='natural earth',\n",
    "                     title='COVID-19 worldwide confirmed cases over time')\n",
    "\n",
    "plot(fig)"
   ]
  },
  {
   "cell_type": "markdown",
   "id": "7b1afce8-4d73-4994-9b55-b4efb6eec6c6",
   "metadata": {},
   "source": [
    "## The top 10 countries with the highest COVID cases and deaths"
   ]
  },
  {
   "cell_type": "code",
   "execution_count": 28,
   "id": "838fa0d8-3c3f-4345-ae62-bf1aaaf50b67",
   "metadata": {},
   "outputs": [],
   "source": [
    "# Start by converting all data into the long format\n",
    "covid_confirmed_long = pd.melt(covid_confirmed,\n",
    "                               id_vars=covid_confirmed.iloc[:, :4],\n",
    "                               var_name='date',\n",
    "                               value_name='confirmed')\n",
    "\n",
    "covid_deaths_long = pd.melt(covid_deaths,\n",
    "                            id_vars=covid_deaths.iloc[:, :4],\n",
    "                            var_name='date',\n",
    "                            value_name='deaths')\n",
    "\n",
    "covid_recovered_long = pd.melt(covid_recovered,\n",
    "                               id_vars=covid_recovered.iloc[:, :4],\n",
    "                               var_name='date',\n",
    "                               value_name='recovered')"
   ]
  },
  {
   "cell_type": "code",
   "execution_count": 29,
   "id": "2f4c99f2-b9d9-4e81-8c8e-0f6a95c39060",
   "metadata": {},
   "outputs": [],
   "source": [
    "# Merge all three dataframes into one for easy plotting\n",
    "covid_df = covid_confirmed_long\n",
    "covid_df['deaths'] = covid_deaths_long['deaths']\n",
    "covid_df['recovered'] = covid_recovered_long['recovered']"
   ]
  },
  {
   "cell_type": "code",
   "execution_count": 30,
   "id": "b74c6bfe-bb8c-45ac-a456-99a95658b6b9",
   "metadata": {},
   "outputs": [],
   "source": [
    "# Add a new column for active cases\n",
    "covid_df['active'] = covid_df['confirmed'] - covid_df['deaths'] - covid_df['recovered']"
   ]
  },
  {
   "cell_type": "code",
   "execution_count": 31,
   "id": "ed5de02a-b10f-44b2-9a45-7d686258384c",
   "metadata": {},
   "outputs": [],
   "source": [
    "# Aggregate data by Country/Region and then Province/State\n",
    "# Find out maximum values as a function of time\n",
    "covid_countries_df = covid_df.groupby(['Country/Region', 'Province/State']).max().reset_index()"
   ]
  },
  {
   "cell_type": "code",
   "execution_count": 32,
   "id": "ded6829e-2e1f-4ebc-ba2b-1e1308cec1fb",
   "metadata": {},
   "outputs": [
    {
     "name": "stderr",
     "output_type": "stream",
     "text": [
      "C:\\Users\\Ayub\\AppData\\Local\\Temp\\ipykernel_25168\\1194080835.py:2: FutureWarning:\n",
      "\n",
      "The default value of numeric_only in DataFrameGroupBy.sum is deprecated. In a future version, numeric_only will default to False. Either specify numeric_only or select only columns which should be valid for the function.\n",
      "\n"
     ]
    }
   ],
   "source": [
    "# Group the data by Country/Region, get sum of cases every state in the country.\n",
    "covid_countries_df = covid_countries_df.groupby('Country/Region').sum().reset_index()"
   ]
  },
  {
   "cell_type": "code",
   "execution_count": 33,
   "id": "2cd59d1f-9a32-45dc-9e68-fd86f4e4df43",
   "metadata": {},
   "outputs": [],
   "source": [
    "# Remove Lat and Long columns as we would not be using them\n",
    "covid_countries_df.drop(['Lat', 'Long'], axis=1, inplace=True)"
   ]
  },
  {
   "cell_type": "markdown",
   "id": "55cf05ac-481a-43be-a8ef-5ecfa513a801",
   "metadata": {},
   "source": [
    "### Plotting Top 10 countries with confirmed cases with plotly"
   ]
  },
  {
   "cell_type": "code",
   "execution_count": 34,
   "id": "98fe2bfd-a1d1-4ef4-b516-a4b069861988",
   "metadata": {},
   "outputs": [
    {
     "data": {
      "text/plain": [
       "'temp-plot.html'"
      ]
     },
     "execution_count": 34,
     "metadata": {},
     "output_type": "execute_result"
    }
   ],
   "source": [
    "top_10_confirmed = covid_countries_df.sort_values(by='confirmed', ascending=False).head(10)\n",
    "\n",
    "fig = px.bar(top_10_confirmed.sort_values(by='confirmed', ascending=True),\n",
    "             x=\"confirmed\", y=\"Country/Region\",\n",
    "             title='Confirmed Cases', text='confirmed',\n",
    "             template='plotly_dark', orientation='h')\n",
    "\n",
    "fig.update_traces(marker_color='#3498db', textposition='outside')\n",
    "\n",
    "plot(fig)"
   ]
  },
  {
   "cell_type": "markdown",
   "id": "157001a2-b97c-49bf-a2d3-64884ab94543",
   "metadata": {},
   "source": [
    "### Plotting Top 10 countries with high recovery numbers"
   ]
  },
  {
   "cell_type": "code",
   "execution_count": 35,
   "id": "fae2ac85-5673-4818-a451-83f8a7ea9c07",
   "metadata": {},
   "outputs": [
    {
     "data": {
      "text/plain": [
       "'temp-plot.html'"
      ]
     },
     "execution_count": 35,
     "metadata": {},
     "output_type": "execute_result"
    }
   ],
   "source": [
    "top_10_recovered = covid_countries_df.sort_values(by='recovered', ascending=False).head(10)\n",
    "fig = px.bar(top_10_recovered.sort_values(by='recovered', ascending=True),\n",
    "             x=\"recovered\", y=\"Country/Region\",\n",
    "             title='Recovered Cases', text='recovered',\n",
    "             template='plotly_dark', orientation='h')\n",
    "\n",
    "fig.update_traces(marker_color='#2ecc71', textposition='outside')\n",
    "\n",
    "plot(fig)"
   ]
  },
  {
   "cell_type": "markdown",
   "id": "d0df0d0a-454c-4e38-98f2-efb8e00528b5",
   "metadata": {},
   "source": [
    "### Plotting Top 10 countries with the highest number of deaths"
   ]
  },
  {
   "cell_type": "code",
   "execution_count": 36,
   "id": "9accc798-9258-4b74-a197-82cfd17bf3c3",
   "metadata": {},
   "outputs": [
    {
     "data": {
      "text/plain": [
       "'temp-plot.html'"
      ]
     },
     "execution_count": 36,
     "metadata": {},
     "output_type": "execute_result"
    }
   ],
   "source": [
    "top_10_deaths = covid_countries_df.sort_values(by='deaths', ascending=False).head(10)\n",
    "fig = px.bar(top_10_confirmed.sort_values(by='deaths', ascending=True),\n",
    "             x=\"deaths\", y=\"Country/Region\",\n",
    "             title='Death Cases', text='deaths',\n",
    "             template='plotly_dark', orientation='h')\n",
    "\n",
    "fig.update_traces(marker_color='#e74c3c', textposition='outside')\n",
    "plot(fig)"
   ]
  },
  {
   "cell_type": "markdown",
   "id": "e1121452-ef1e-4604-86d6-12fcd1f8fd0d",
   "metadata": {},
   "source": [
    "### Plotting Top 10 countries with the highest mortality rate"
   ]
  },
  {
   "cell_type": "code",
   "execution_count": 37,
   "id": "6b4e7635-e89b-4864-b5c0-a93cff533cdf",
   "metadata": {},
   "outputs": [
    {
     "data": {
      "text/plain": [
       "'temp-plot.html'"
      ]
     },
     "execution_count": 37,
     "metadata": {},
     "output_type": "execute_result"
    }
   ],
   "source": [
    "covid_countries_df['mortality_rate'] = round(covid_countries_df['deaths'] / covid_countries_df['confirmed'] * 100, 2)\n",
    "temp = covid_countries_df[covid_countries_df['confirmed'] > 1000000]\n",
    "top_10_mortality_rate = temp.sort_values(by='mortality_rate', ascending=False).head(10)\n",
    "\n",
    "fig = px.bar(top_10_mortality_rate.sort_values(by='mortality_rate', ascending=True),\n",
    "             x=\"mortality_rate\", y=\"Country/Region\",\n",
    "             title='Mortality rate', text='mortality_rate',\n",
    "             template='plotly_dark', orientation='h',\n",
    "             width=700, height=600)\n",
    "\n",
    "fig.update_traces(marker_color='#c0392b', textposition='outside')\n",
    "\n",
    "plot(fig)\n"
   ]
  },
  {
   "cell_type": "code",
   "execution_count": null,
   "id": "2f0fd717-3aba-4577-8ec0-46e6b5141562",
   "metadata": {},
   "outputs": [],
   "source": []
  }
 ],
 "metadata": {
  "kernelspec": {
   "display_name": "Python 3 (ipykernel)",
   "language": "python",
   "name": "python3"
  },
  "language_info": {
   "codemirror_mode": {
    "name": "ipython",
    "version": 3
   },
   "file_extension": ".py",
   "mimetype": "text/x-python",
   "name": "python",
   "nbconvert_exporter": "python",
   "pygments_lexer": "ipython3",
   "version": "3.11.1"
  }
 },
 "nbformat": 4,
 "nbformat_minor": 5
}
